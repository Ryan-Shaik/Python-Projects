{
  "nbformat": 4,
  "nbformat_minor": 0,
  "metadata": {
    "colab": {
      "provenance": [],
      "authorship_tag": "ABX9TyPne1J8TUx4LsYmI2ubjjxr",
      "include_colab_link": true
    },
    "kernelspec": {
      "name": "python3",
      "display_name": "Python 3"
    },
    "language_info": {
      "name": "python"
    }
  },
  "cells": [
    {
      "cell_type": "markdown",
      "metadata": {
        "id": "view-in-github",
        "colab_type": "text"
      },
      "source": [
        "<a href=\"https://colab.research.google.com/github/Ryan-Shaik/Python-Projects/blob/main/TXT_TO_JSON_Converter.ipynb\" target=\"_parent\"><img src=\"https://colab.research.google.com/assets/colab-badge.svg\" alt=\"Open In Colab\"/></a>"
      ]
    },
    {
      "cell_type": "code",
      "execution_count": null,
      "metadata": {
        "id": "i0mU7JQlspMS"
      },
      "outputs": [],
      "source": [
        "import json\n",
        "\n",
        "def txt_to_json(txt_file_path, json_file_path):\n",
        "    # Create an empty dictionary to store the key-value pairs\n",
        "    data = {}\n",
        "\n",
        "    # Open the txt file and read it line by line\n",
        "    with open(txt_file_path, 'r') as txt_file:\n",
        "        for line in txt_file:\n",
        "            # Split each line into a key-value pair based on the delimiter (e.g., ':')\n",
        "            line = line.strip()  # Remove any surrounding whitespace\n",
        "            if \":\" in line:  # Ensures that only lines with the delimiter are processed\n",
        "                key, value = line.split(':', 1)  # Split only on the first occurrence of ':'\n",
        "                data[key.strip()] = value.strip()  # Remove whitespace around keys and values\n",
        "\n",
        "    # Write the dictionary to a JSON file\n",
        "    with open(json_file_path, 'w') as json_file:\n",
        "        json.dump(data, json_file, indent=4)\n",
        "\n",
        "# Example usage:\n",
        "txt_file = '/content/ImageNetclasses.txt'  # Path to your txt file\n",
        "json_file = 'output.json'  # Path where you want to save the json file\n",
        "txt_to_json(txt_file, json_file)\n"
      ]
    }
  ]
}