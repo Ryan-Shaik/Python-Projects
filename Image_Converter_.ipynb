{
  "nbformat": 4,
  "nbformat_minor": 0,
  "metadata": {
    "colab": {
      "provenance": [],
      "authorship_tag": "ABX9TyOVu6N3VNEg3VM+dJ6EEETY",
      "include_colab_link": true
    },
    "kernelspec": {
      "name": "python3",
      "display_name": "Python 3"
    },
    "language_info": {
      "name": "python"
    }
  },
  "cells": [
    {
      "cell_type": "markdown",
      "metadata": {
        "id": "view-in-github",
        "colab_type": "text"
      },
      "source": [
        "<a href=\"https://colab.research.google.com/github/Ryan-Shaik/Python-Projects/blob/main/Image_Converter_.ipynb\" target=\"_parent\"><img src=\"https://colab.research.google.com/assets/colab-badge.svg\" alt=\"Open In Colab\"/></a>"
      ]
    },
    {
      "cell_type": "code",
      "execution_count": null,
      "metadata": {
        "colab": {
          "base_uri": "https://localhost:8080/",
          "height": 69
        },
        "id": "8OlHJzlzUaGJ",
        "outputId": "53c99b23-63cd-478d-8528-42d39c074db0"
      },
      "outputs": [
        {
          "name": "stdout",
          "output_type": "stream",
          "text": [
            "Converted /content/images/8212024.jfif to 8212024.jpg\n",
            "Do you want to download the converted images? (yes/no): yes\n"
          ]
        },
        {
          "output_type": "display_data",
          "data": {
            "text/plain": [
              "<IPython.core.display.Javascript object>"
            ],
            "application/javascript": [
              "\n",
              "    async function download(id, filename, size) {\n",
              "      if (!google.colab.kernel.accessAllowed) {\n",
              "        return;\n",
              "      }\n",
              "      const div = document.createElement('div');\n",
              "      const label = document.createElement('label');\n",
              "      label.textContent = `Downloading \"${filename}\": `;\n",
              "      div.appendChild(label);\n",
              "      const progress = document.createElement('progress');\n",
              "      progress.max = size;\n",
              "      div.appendChild(progress);\n",
              "      document.body.appendChild(div);\n",
              "\n",
              "      const buffers = [];\n",
              "      let downloaded = 0;\n",
              "\n",
              "      const channel = await google.colab.kernel.comms.open(id);\n",
              "      // Send a message to notify the kernel that we're ready.\n",
              "      channel.send({})\n",
              "\n",
              "      for await (const message of channel.messages) {\n",
              "        // Send a message to notify the kernel that we're ready.\n",
              "        channel.send({})\n",
              "        if (message.buffers) {\n",
              "          for (const buffer of message.buffers) {\n",
              "            buffers.push(buffer);\n",
              "            downloaded += buffer.byteLength;\n",
              "            progress.value = downloaded;\n",
              "          }\n",
              "        }\n",
              "      }\n",
              "      const blob = new Blob(buffers, {type: 'application/binary'});\n",
              "      const a = document.createElement('a');\n",
              "      a.href = window.URL.createObjectURL(blob);\n",
              "      a.download = filename;\n",
              "      div.appendChild(a);\n",
              "      a.click();\n",
              "      div.remove();\n",
              "    }\n",
              "  "
            ]
          },
          "metadata": {}
        },
        {
          "output_type": "display_data",
          "data": {
            "text/plain": [
              "<IPython.core.display.Javascript object>"
            ],
            "application/javascript": [
              "download(\"download_5e29c6df-2147-4a47-b7de-a94bc719ce8c\", \"converted_images.zip\", 432597)"
            ]
          },
          "metadata": {}
        }
      ],
      "source": [
        "from PIL import Image\n",
        "import os\n",
        "import glob\n",
        "import shutil\n",
        "from google.colab import files  # This is specific to Google Colab\n",
        "\n",
        "def convert_images_to_jpg(source_dir, output_dir):\n",
        "    # Ensure the output directory exists\n",
        "    os.makedirs(output_dir, exist_ok=True)\n",
        "\n",
        "    # Define supported input formats, including jfif\n",
        "    supported_formats = ('*.png', '*.bmp', '*.gif', '*.tiff', '*.jpeg', '*.jfif')\n",
        "\n",
        "    converted_files = []  # Keep track of converted files\n",
        "\n",
        "    # Loop over all supported formats\n",
        "    for extension in supported_formats:\n",
        "        # Search for files with each extension\n",
        "        for filepath in glob.glob(os.path.join(source_dir, extension)):\n",
        "            try:\n",
        "                img = Image.open(filepath)\n",
        "                # Convert the file name to JPG format\n",
        "                filename = os.path.splitext(os.path.basename(filepath))[0] + '.jpg'\n",
        "                # Convert the image to RGB mode (in case it has transparency or other modes)\n",
        "                img = img.convert('RGB')\n",
        "                # Save the image in the output directory as JPG\n",
        "                img.save(os.path.join(output_dir, filename), 'JPEG')\n",
        "                converted_files.append(os.path.join(output_dir, filename))\n",
        "                print(f\"Converted {filepath} to {filename}\")\n",
        "            except Exception as e:\n",
        "                print(f\"Failed to convert {filepath}: {e}\")\n",
        "\n",
        "    # Ask user if they want to download the images\n",
        "    if converted_files:\n",
        "        download_images(output_dir)\n",
        "    else:\n",
        "        print(\"No files were converted.\")\n",
        "\n",
        "def download_images(output_dir):\n",
        "    download_choice = input(\"Do you want to download the converted images? (yes/no): \").strip().lower()\n",
        "\n",
        "    if download_choice == 'yes':\n",
        "        # Create a zip file with all converted images\n",
        "        zip_filename = os.path.join(output_dir, 'converted_images.zip')\n",
        "        shutil.make_archive(zip_filename.replace('.zip', ''), 'zip', output_dir)\n",
        "\n",
        "        # Download the zip file in Colab\n",
        "        files.download(zip_filename)\n",
        "    else:\n",
        "        print(\"Download canceled. The images are stored in the output directory.\")\n",
        "\n",
        "# Example usage\n",
        "source_directory = \"/content/images\"  # Replace with the directory containing images\n",
        "output_directory = \"/content/converted_images\"  # Replace with the directory to save JPGs\n",
        "\n",
        "convert_images_to_jpg(source_directory, output_directory)\n"
      ]
    },
    {
      "cell_type": "code",
      "source": [],
      "metadata": {
        "id": "a2_VhXjfUf2_"
      },
      "execution_count": null,
      "outputs": []
    }
  ]
}